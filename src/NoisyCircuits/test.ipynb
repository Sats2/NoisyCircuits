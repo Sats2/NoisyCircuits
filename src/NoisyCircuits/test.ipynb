{
 "cells": [
  {
   "cell_type": "code",
   "execution_count": 7,
   "id": "653fab6e",
   "metadata": {},
   "outputs": [],
   "source": [
    "from QuantumCircuit import QuantumCircuit as nqc\n",
    "import pickle\n",
    "import json"
   ]
  },
  {
   "cell_type": "code",
   "execution_count": 2,
   "id": "bb851c63",
   "metadata": {},
   "outputs": [],
   "source": [
    "noise = pickle.load(open(\"noise_data_2025_04_23.pkl\", \"rb\"))\n",
    "noise = json.JSONDecoder().decode(json.dumps(noise))"
   ]
  },
  {
   "cell_type": "code",
   "execution_count": null,
   "id": "cb9544c3",
   "metadata": {},
   "outputs": [
    {
     "name": "stdout",
     "output_type": "stream",
     "text": [
      "Completed Extraction of ECR Errors.\n",
      "Starting post-processing on Single Qubit Errors.\n",
      "Completed post-processing on Single Qubit Errors.\n",
      "Processing ECR errors.\n",
      "  Qubit pair (0, 1): 20/144 errors above threshold (124 filtered out)\n",
      "ECR errors processed.\n",
      "Building Noise Operators for ECR Errors.\n",
      "Completed building Noise Operators for ECR Errors.\n",
      "Extracting Measurement Errors.\n",
      "Available qubits in roerror_map: [0, 1, 2, 3, 4, 5, 6, 7, 8, 9, 10, 11, 12, 13, 14, 15, 16, 17, 18, 19, 20, 21, 22, 23, 24, 25, 26, 27, 28, 29, 30, 31, 32, 33, 34, 35, 36, 37, 38, 39, 40, 41, 42, 43, 44, 45, 46, 47, 48, 49, 50, 51, 52, 53, 54, 55, 56, 57, 58, 59, 60, 61, 62, 63, 64, 65, 66, 67, 68, 69, 70, 71, 72, 73, 74, 75, 76, 77, 78, 79, 80, 81, 82, 83, 84, 85, 86, 87, 88, 89, 90, 91, 92, 93, 94, 95, 96, 97, 98, 99, 100, 101, 102, 103, 104, 105, 106, 107, 108, 109, 110, 111, 112, 113, 114, 115, 116, 117, 118, 119, 120, 121, 122, 123, 124, 125, 126]\n",
      "Requested qubits: [0, 1]\n",
      "Completed Extraction of Measurement Errors.\n",
      "Preparing Qubit Connectivity Map for Requested Qubits\n",
      "Qubit Connectivity Map Prepared.\n",
      "Returning Single Qubit Error Instructions, ECR Error Instructions, Measurement Errors and Connectivity Map.\n"
     ]
    }
   ],
   "source": [
    "circ = nqc(num_qubits=2, noise_model=noise, num_trajectories=5, num_cores=5, threshold=1e-4)"
   ]
  },
  {
   "cell_type": "code",
   "execution_count": null,
   "id": "f62d1c3f",
   "metadata": {},
   "outputs": [],
   "source": [
    "circ.H(0)\n",
    "circ.CX(0,1)\n",
    "circ.RY(0.75, 0)\n",
    "circ.RX(0.1, 1)\n",
    "circ.CY(1,0)"
   ]
  },
  {
   "cell_type": "code",
   "execution_count": 5,
   "id": "bb308524",
   "metadata": {},
   "outputs": [
    {
     "data": {
      "text/plain": [
       "tensor([0.5, 0. , 0. , 0.5], requires_grad=True)"
      ]
     },
     "execution_count": 5,
     "metadata": {},
     "output_type": "execute_result"
    }
   ],
   "source": [
    "circ.execute([0,1])"
   ]
  },
  {
   "cell_type": "code",
   "execution_count": 6,
   "id": "5a90ac8e",
   "metadata": {},
   "outputs": [
    {
     "ename": "ValueError",
     "evalue": "Only trace preserving channels can be applied.",
     "output_type": "error",
     "traceback": [
      "\u001b[1;31m---------------------------------------------------------------------------\u001b[0m",
      "\u001b[1;31mValueError\u001b[0m                                Traceback (most recent call last)",
      "Cell \u001b[1;32mIn[6], line 1\u001b[0m\n\u001b[1;32m----> 1\u001b[0m \u001b[43mcirc\u001b[49m\u001b[38;5;241;43m.\u001b[39;49m\u001b[43mrun_with_density_matrix\u001b[49m\u001b[43m(\u001b[49m\u001b[43m)\u001b[49m\n",
      "File \u001b[1;32mc:\\Users\\sathy\\NoisyCircuits\\src\\NoisyCircuits\\QuantumCircuit.py:657\u001b[0m, in \u001b[0;36mQuantumCircuit.run_with_density_matrix\u001b[1;34m(self)\u001b[0m\n\u001b[0;32m    648\u001b[0m \u001b[38;5;28;01mdef\u001b[39;00m \u001b[38;5;21mrun_with_density_matrix\u001b[39m(\u001b[38;5;28mself\u001b[39m):\n\u001b[0;32m    649\u001b[0m     density_matrix_solver \u001b[38;5;241m=\u001b[39m DensityMatrixSolver(\n\u001b[0;32m    650\u001b[0m         num_qubits\u001b[38;5;241m=\u001b[39m\u001b[38;5;28mself\u001b[39m\u001b[38;5;241m.\u001b[39mnum_qubits,\n\u001b[0;32m    651\u001b[0m         single_qubit_noise\u001b[38;5;241m=\u001b[39m\u001b[38;5;28mself\u001b[39m\u001b[38;5;241m.\u001b[39msingle_qubit_instructions,\n\u001b[1;32m   (...)\u001b[0m\n\u001b[0;32m    655\u001b[0m         qubit_instruction_list\u001b[38;5;241m=\u001b[39m\u001b[38;5;28mself\u001b[39m\u001b[38;5;241m.\u001b[39mqubit_to_instruction_list\n\u001b[0;32m    656\u001b[0m     )\n\u001b[1;32m--> 657\u001b[0m     \u001b[38;5;28;01mreturn\u001b[39;00m \u001b[43mdensity_matrix_solver\u001b[49m\u001b[38;5;241;43m.\u001b[39;49m\u001b[43msolve\u001b[49m\u001b[43m(\u001b[49m\u001b[43m)\u001b[49m\n",
      "File \u001b[1;32mc:\\Users\\sathy\\NoisyCircuits\\src\\NoisyCircuits\\utils\\DensityMatrixSolver.py:81\u001b[0m, in \u001b[0;36mDensityMatrixSolver.solve\u001b[1;34m(self)\u001b[0m\n\u001b[0;32m     78\u001b[0m             qml\u001b[38;5;241m.\u001b[39mQubitChannel(\u001b[38;5;28mself\u001b[39m\u001b[38;5;241m.\u001b[39mecr_noise[qubit_added][\u001b[38;5;124m\"\u001b[39m\u001b[38;5;124moperators\u001b[39m\u001b[38;5;124m\"\u001b[39m], wires\u001b[38;5;241m=\u001b[39m\u001b[38;5;28mrange\u001b[39m(\u001b[38;5;28mself\u001b[39m\u001b[38;5;241m.\u001b[39mnum_qubits))\n\u001b[0;32m     79\u001b[0m     \u001b[38;5;28;01mreturn\u001b[39;00m qml\u001b[38;5;241m.\u001b[39mprobs(wires\u001b[38;5;241m=\u001b[39m\u001b[38;5;28mrange\u001b[39m(\u001b[38;5;28mself\u001b[39m\u001b[38;5;241m.\u001b[39mnum_qubits))\n\u001b[1;32m---> 81\u001b[0m probs \u001b[38;5;241m=\u001b[39m \u001b[43mrun_circuit\u001b[49m\u001b[43m(\u001b[49m\u001b[43m)\u001b[49m\n\u001b[0;32m     82\u001b[0m \u001b[38;5;28;01mreturn\u001b[39;00m probs\n",
      "File \u001b[1;32mc:\\Users\\sathy\\miniconda3\\envs\\penny\\lib\\site-packages\\pennylane\\workflow\\qnode.py:922\u001b[0m, in \u001b[0;36mQNode.__call__\u001b[1;34m(self, *args, **kwargs)\u001b[0m\n\u001b[0;32m    919\u001b[0m     \u001b[38;5;28;01mfrom\u001b[39;00m \u001b[38;5;21;01m.\u001b[39;00m\u001b[38;5;21;01m_capture_qnode\u001b[39;00m \u001b[38;5;28;01mimport\u001b[39;00m capture_qnode  \u001b[38;5;66;03m# pylint: disable=import-outside-toplevel\u001b[39;00m\n\u001b[0;32m    921\u001b[0m     \u001b[38;5;28;01mreturn\u001b[39;00m capture_qnode(\u001b[38;5;28mself\u001b[39m, \u001b[38;5;241m*\u001b[39margs, \u001b[38;5;241m*\u001b[39m\u001b[38;5;241m*\u001b[39mkwargs)\n\u001b[1;32m--> 922\u001b[0m \u001b[38;5;28;01mreturn\u001b[39;00m \u001b[38;5;28mself\u001b[39m\u001b[38;5;241m.\u001b[39m_impl_call(\u001b[38;5;241m*\u001b[39margs, \u001b[38;5;241m*\u001b[39m\u001b[38;5;241m*\u001b[39mkwargs)\n",
      "File \u001b[1;32mc:\\Users\\sathy\\miniconda3\\envs\\penny\\lib\\site-packages\\pennylane\\workflow\\qnode.py:890\u001b[0m, in \u001b[0;36mQNode._impl_call\u001b[1;34m(self, *args, **kwargs)\u001b[0m\n\u001b[0;32m    887\u001b[0m \u001b[38;5;28;01mdef\u001b[39;00m \u001b[38;5;21m_impl_call\u001b[39m(\u001b[38;5;28mself\u001b[39m, \u001b[38;5;241m*\u001b[39margs, \u001b[38;5;241m*\u001b[39m\u001b[38;5;241m*\u001b[39mkwargs) \u001b[38;5;241m-\u001b[39m\u001b[38;5;241m>\u001b[39m Result:\n\u001b[0;32m    888\u001b[0m \n\u001b[0;32m    889\u001b[0m     \u001b[38;5;66;03m# construct the tape\u001b[39;00m\n\u001b[1;32m--> 890\u001b[0m     tape \u001b[38;5;241m=\u001b[39m \u001b[38;5;28;43mself\u001b[39;49m\u001b[38;5;241;43m.\u001b[39;49m\u001b[43mconstruct\u001b[49m\u001b[43m(\u001b[49m\u001b[43margs\u001b[49m\u001b[43m,\u001b[49m\u001b[43m \u001b[49m\u001b[43mkwargs\u001b[49m\u001b[43m)\u001b[49m\n\u001b[0;32m    892\u001b[0m     \u001b[38;5;66;03m# Calculate the classical jacobians if necessary\u001b[39;00m\n\u001b[0;32m    893\u001b[0m     \u001b[38;5;28mself\u001b[39m\u001b[38;5;241m.\u001b[39m_transform_program\u001b[38;5;241m.\u001b[39mset_classical_component(\u001b[38;5;28mself\u001b[39m, args, kwargs)\n",
      "File \u001b[1;32mc:\\Users\\sathy\\miniconda3\\envs\\penny\\lib\\site-packages\\pennylane\\logging\\decorators.py:61\u001b[0m, in \u001b[0;36mlog_string_debug_func.<locals>.wrapper_entry\u001b[1;34m(*args, **kwargs)\u001b[0m\n\u001b[0;32m     54\u001b[0m     s_caller \u001b[38;5;241m=\u001b[39m \u001b[38;5;124m\"\u001b[39m\u001b[38;5;124m::L\u001b[39m\u001b[38;5;124m\"\u001b[39m\u001b[38;5;241m.\u001b[39mjoin(\n\u001b[0;32m     55\u001b[0m         [\u001b[38;5;28mstr\u001b[39m(i) \u001b[38;5;28;01mfor\u001b[39;00m i \u001b[38;5;129;01min\u001b[39;00m inspect\u001b[38;5;241m.\u001b[39mgetouterframes(inspect\u001b[38;5;241m.\u001b[39mcurrentframe(), \u001b[38;5;241m2\u001b[39m)[\u001b[38;5;241m1\u001b[39m][\u001b[38;5;241m1\u001b[39m:\u001b[38;5;241m3\u001b[39m]]\n\u001b[0;32m     56\u001b[0m     )\n\u001b[0;32m     57\u001b[0m     lgr\u001b[38;5;241m.\u001b[39mdebug(\n\u001b[0;32m     58\u001b[0m         \u001b[38;5;124mf\u001b[39m\u001b[38;5;124m\"\u001b[39m\u001b[38;5;124mCalling \u001b[39m\u001b[38;5;132;01m{\u001b[39;00mf_string\u001b[38;5;132;01m}\u001b[39;00m\u001b[38;5;124m from \u001b[39m\u001b[38;5;132;01m{\u001b[39;00ms_caller\u001b[38;5;132;01m}\u001b[39;00m\u001b[38;5;124m\"\u001b[39m,\n\u001b[0;32m     59\u001b[0m         \u001b[38;5;241m*\u001b[39m\u001b[38;5;241m*\u001b[39m_debug_log_kwargs,\n\u001b[0;32m     60\u001b[0m     )\n\u001b[1;32m---> 61\u001b[0m \u001b[38;5;28;01mreturn\u001b[39;00m func(\u001b[38;5;241m*\u001b[39margs, \u001b[38;5;241m*\u001b[39m\u001b[38;5;241m*\u001b[39mkwargs)\n",
      "File \u001b[1;32mc:\\Users\\sathy\\miniconda3\\envs\\penny\\lib\\site-packages\\pennylane\\workflow\\qnode.py:876\u001b[0m, in \u001b[0;36mQNode.construct\u001b[1;34m(self, args, kwargs)\u001b[0m\n\u001b[0;32m    874\u001b[0m \u001b[38;5;28;01mwith\u001b[39;00m pldb_device_manager(\u001b[38;5;28mself\u001b[39m\u001b[38;5;241m.\u001b[39mdevice):\n\u001b[0;32m    875\u001b[0m     \u001b[38;5;28;01mwith\u001b[39;00m AnnotatedQueue() \u001b[38;5;28;01mas\u001b[39;00m q:\n\u001b[1;32m--> 876\u001b[0m         \u001b[38;5;28mself\u001b[39m\u001b[38;5;241m.\u001b[39m_qfunc_output \u001b[38;5;241m=\u001b[39m \u001b[38;5;28mself\u001b[39m\u001b[38;5;241m.\u001b[39mfunc(\u001b[38;5;241m*\u001b[39margs, \u001b[38;5;241m*\u001b[39m\u001b[38;5;241m*\u001b[39mkwargs)\n\u001b[0;32m    878\u001b[0m tape \u001b[38;5;241m=\u001b[39m QuantumScript\u001b[38;5;241m.\u001b[39mfrom_queue(q, shots)\n\u001b[0;32m    880\u001b[0m params \u001b[38;5;241m=\u001b[39m tape\u001b[38;5;241m.\u001b[39mget_parameters(trainable_only\u001b[38;5;241m=\u001b[39m\u001b[38;5;28;01mFalse\u001b[39;00m)\n",
      "File \u001b[1;32mc:\\Users\\sathy\\NoisyCircuits\\src\\NoisyCircuits\\utils\\DensityMatrixSolver.py:75\u001b[0m, in \u001b[0;36mDensityMatrixSolver.solve.<locals>.run_circuit\u001b[1;34m()\u001b[0m\n\u001b[0;32m     73\u001b[0m     \u001b[38;5;28;01melse\u001b[39;00m:\n\u001b[0;32m     74\u001b[0m         qml\u001b[38;5;241m.\u001b[39mapply(gate)\n\u001b[1;32m---> 75\u001b[0m         \u001b[43mqml\u001b[49m\u001b[38;5;241;43m.\u001b[39;49m\u001b[43mQubitChannel\u001b[49m\u001b[43m(\u001b[49m\u001b[38;5;28;43mself\u001b[39;49m\u001b[38;5;241;43m.\u001b[39;49m\u001b[43msingle_qubit_noise\u001b[49m\u001b[43m[\u001b[49m\u001b[43mqubit_added\u001b[49m\u001b[43m]\u001b[49m\u001b[43m[\u001b[49m\u001b[43mgate_instruction\u001b[49m\u001b[43m]\u001b[49m\u001b[43m[\u001b[49m\u001b[38;5;124;43m\"\u001b[39;49m\u001b[38;5;124;43mkraus_operators\u001b[39;49m\u001b[38;5;124;43m\"\u001b[39;49m\u001b[43m]\u001b[49m\u001b[43m,\u001b[49m\u001b[43m \u001b[49m\u001b[43mwires\u001b[49m\u001b[38;5;241;43m=\u001b[39;49m\u001b[38;5;28;43mrange\u001b[39;49m\u001b[43m(\u001b[49m\u001b[38;5;28;43mself\u001b[39;49m\u001b[38;5;241;43m.\u001b[39;49m\u001b[43mnum_qubits\u001b[49m\u001b[43m)\u001b[49m\u001b[43m)\u001b[49m\n\u001b[0;32m     76\u001b[0m \u001b[38;5;28;01melse\u001b[39;00m:\n\u001b[0;32m     77\u001b[0m     qml\u001b[38;5;241m.\u001b[39mapply(gate)\n",
      "File \u001b[1;32mc:\\Users\\sathy\\miniconda3\\envs\\penny\\lib\\site-packages\\pennylane\\capture\\capture_meta.py:30\u001b[0m, in \u001b[0;36m_stop_autograph.<locals>.new_f\u001b[1;34m(*args, **kwargs)\u001b[0m\n\u001b[0;32m     29\u001b[0m \u001b[38;5;28;01mdef\u001b[39;00m \u001b[38;5;21mnew_f\u001b[39m(\u001b[38;5;241m*\u001b[39margs, \u001b[38;5;241m*\u001b[39m\u001b[38;5;241m*\u001b[39mkwargs):\n\u001b[1;32m---> 30\u001b[0m     \u001b[38;5;28;01mreturn\u001b[39;00m f(\u001b[38;5;241m*\u001b[39margs, \u001b[38;5;241m*\u001b[39m\u001b[38;5;241m*\u001b[39mkwargs)\n",
      "File \u001b[1;32mc:\\Users\\sathy\\miniconda3\\envs\\penny\\lib\\site-packages\\pennylane\\capture\\capture_meta.py:97\u001b[0m, in \u001b[0;36mCaptureMeta.__call__\u001b[1;34m(cls, *args, **kwargs)\u001b[0m\n\u001b[0;32m     93\u001b[0m \u001b[38;5;28;01mif\u001b[39;00m enabled():\n\u001b[0;32m     94\u001b[0m     \u001b[38;5;66;03m# when tracing is enabled, we want to\u001b[39;00m\n\u001b[0;32m     95\u001b[0m     \u001b[38;5;66;03m# use bind to construct the class if we want class construction to add it to the jaxpr\u001b[39;00m\n\u001b[0;32m     96\u001b[0m     \u001b[38;5;28;01mreturn\u001b[39;00m \u001b[38;5;28mcls\u001b[39m\u001b[38;5;241m.\u001b[39m_primitive_bind_call(\u001b[38;5;241m*\u001b[39margs, \u001b[38;5;241m*\u001b[39m\u001b[38;5;241m*\u001b[39mkwargs)\n\u001b[1;32m---> 97\u001b[0m \u001b[38;5;28;01mreturn\u001b[39;00m \u001b[38;5;28mtype\u001b[39m\u001b[38;5;241m.\u001b[39m\u001b[38;5;21m__call__\u001b[39m(\u001b[38;5;28mcls\u001b[39m, \u001b[38;5;241m*\u001b[39margs, \u001b[38;5;241m*\u001b[39m\u001b[38;5;241m*\u001b[39mkwargs)\n",
      "File \u001b[1;32mc:\\Users\\sathy\\miniconda3\\envs\\penny\\lib\\site-packages\\pennylane\\ops\\channel.py:764\u001b[0m, in \u001b[0;36mQubitChannel.__init__\u001b[1;34m(self, K_list, wires, id)\u001b[0m\n\u001b[0;32m    762\u001b[0m Kraus_sum \u001b[38;5;241m=\u001b[39m np\u001b[38;5;241m.\u001b[39meinsum(\u001b[38;5;124m\"\u001b[39m\u001b[38;5;124majk,ajl->kl\u001b[39m\u001b[38;5;124m\"\u001b[39m, K_arr\u001b[38;5;241m.\u001b[39mconj(), K_arr)\n\u001b[0;32m    763\u001b[0m \u001b[38;5;28;01mif\u001b[39;00m \u001b[38;5;129;01mnot\u001b[39;00m np\u001b[38;5;241m.\u001b[39mallclose(Kraus_sum, np\u001b[38;5;241m.\u001b[39meye(K_list[\u001b[38;5;241m0\u001b[39m]\u001b[38;5;241m.\u001b[39mshape[\u001b[38;5;241m0\u001b[39m])):\n\u001b[1;32m--> 764\u001b[0m     \u001b[38;5;28;01mraise\u001b[39;00m \u001b[38;5;167;01mValueError\u001b[39;00m(\u001b[38;5;124m\"\u001b[39m\u001b[38;5;124mOnly trace preserving channels can be applied.\u001b[39m\u001b[38;5;124m\"\u001b[39m)\n",
      "\u001b[1;31mValueError\u001b[0m: Only trace preserving channels can be applied."
     ]
    }
   ],
   "source": [
    "circ.run_with_density_matrix()"
   ]
  }
 ],
 "metadata": {
  "kernelspec": {
   "display_name": "penny",
   "language": "python",
   "name": "python3"
  },
  "language_info": {
   "codemirror_mode": {
    "name": "ipython",
    "version": 3
   },
   "file_extension": ".py",
   "mimetype": "text/x-python",
   "name": "python",
   "nbconvert_exporter": "python",
   "pygments_lexer": "ipython3",
   "version": "3.10.14"
  }
 },
 "nbformat": 4,
 "nbformat_minor": 5
}
