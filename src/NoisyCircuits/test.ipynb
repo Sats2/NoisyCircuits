{
 "cells": [
  {
   "cell_type": "code",
   "execution_count": 1,
   "id": "653fab6e",
   "metadata": {},
   "outputs": [],
   "source": [
    "from QuantumCircuit import QuantumCircuit as nqc\n",
    "from utils.GetNoiseModel import GetNoiseModel\n",
    "import pickle\n",
    "import json\n",
    "import numpy as np"
   ]
  },
  {
   "cell_type": "code",
   "execution_count": 2,
   "id": "210d4d96",
   "metadata": {},
   "outputs": [
    {
     "name": "stderr",
     "output_type": "stream",
     "text": [
      "qiskit_runtime_service._resolve_cloud_instances:WARNING:2025-07-24 18:28:55,145: Default instance not set. Searching all available instances.\n"
     ]
    }
   ],
   "source": [
    "my_token = \"agSkijZNjBDDI2fALkRUg76VoiGtKr3gTJs9TOiXW5Kr\"\n",
    "backend_name = \"ibm_sherbrooke\"\n",
    "\n",
    "noise_model = GetNoiseModel(backend_name=backend_name, token=my_token).get_noise_model()"
   ]
  },
  {
   "cell_type": "code",
   "execution_count": 3,
   "id": "cb9544c3",
   "metadata": {},
   "outputs": [
    {
     "name": "stdout",
     "output_type": "stream",
     "text": [
      "Completed Extraction of ECR Errors.\n",
      "Starting post-processing on Single Qubit Errors.\n",
      "Completed post-processing on Single Qubit Errors.\n",
      "Processing ECR errors.\n",
      "  Qubit pair (0, 1): 48/48 errors above threshold (0 filtered out)\n",
      "  Qubit pair (1, 2): 48/48 errors above threshold (0 filtered out)\n",
      "ECR errors processed.\n",
      "Building Noise Operators for ECR Errors.\n",
      "Completed building Noise Operators for ECR Errors.\n",
      "Extracting Measurement Errors.\n",
      "Available qubits in roerror_map: [0, 1, 2, 3, 4, 5, 6, 7, 8, 9, 10, 11, 12, 13, 14, 15, 16, 17, 18, 19, 20, 21, 22, 23, 24, 25, 26, 27, 28, 29, 30, 31, 32, 33, 34, 35, 36, 37, 38, 39, 40, 41, 42, 43, 44, 45, 46, 47, 48, 49, 50, 51, 52, 53, 54, 55, 56, 57, 58, 59, 60, 61, 62, 63, 64, 65, 66, 67, 68, 69, 70, 71, 72, 73, 74, 75, 76, 77, 78, 79, 80, 81, 82, 83, 84, 85, 86, 87, 88, 89, 90, 91, 92, 93, 94, 95, 96, 97, 98, 99, 100, 101, 102, 103, 104, 105, 106, 107, 108, 109, 110, 111, 112, 113, 114, 115, 116, 117, 118, 119, 120, 121, 122, 123, 124, 125, 126]\n",
      "Requested qubits: [0, 1, 2]\n",
      "Completed Extraction of Measurement Errors.\n",
      "Preparing Qubit Connectivity Map for Requested Qubits\n",
      "Qubit Connectivity Map Prepared.\n",
      "Returning Single Qubit Error Instructions, ECR Error Instructions, Measurement Errors and Connectivity Map.\n"
     ]
    }
   ],
   "source": [
    "circ = nqc(num_qubits=3, noise_model=noise_model, num_trajectories=100, num_cores=5, threshold=1e-12, jsonize=True)"
   ]
  },
  {
   "cell_type": "code",
   "execution_count": 4,
   "id": "f62d1c3f",
   "metadata": {},
   "outputs": [],
   "source": [
    "gate_set_single = {\"x\": circ.X, \"y\":circ.Y, \"z\":circ.Z, \"h\":circ.H, \"sx\":circ.SX, \"rx\":circ.RX, \"ry\":circ.RY, \"rz\":circ.RZ}\n",
    "gate_set_double = [circ.CX, circ.CY, circ.CZ]\n",
    "\n",
    "def build_random_circuit(depth):\n",
    "    for _ in range(depth):\n",
    "        for i in range(3):\n",
    "            choice = np.random.choice(list(gate_set_single.keys()))\n",
    "        if choice in [\"rx\", \"ry\", \"rz\"]:\n",
    "            angle = np.random.uniform(0, 2*np.pi)\n",
    "            gate_set_single[choice](angle, i)\n",
    "        else:\n",
    "            gate_set_single[choice](i)\n",
    "        for i in range(2):\n",
    "            np.random.choice(gate_set_double)(i, i+1)\n",
    "        np.random.choice(gate_set_double)(2, 0)"
   ]
  },
  {
   "cell_type": "code",
   "execution_count": 5,
   "id": "eba18a08",
   "metadata": {},
   "outputs": [],
   "source": [
    "depth = 20\n",
    "build_random_circuit(depth)"
   ]
  },
  {
   "cell_type": "code",
   "execution_count": 6,
   "id": "bb308524",
   "metadata": {},
   "outputs": [],
   "source": [
    "p_mcwf = circ.execute(qubits=[0,1,2], num_trajectories=100)"
   ]
  },
  {
   "cell_type": "code",
   "execution_count": 6,
   "id": "d3f6e34b",
   "metadata": {},
   "outputs": [],
   "source": [
    "p_pure = circ.run_pure_state([0,1,2])"
   ]
  },
  {
   "cell_type": "code",
   "execution_count": 7,
   "id": "7793ab26",
   "metadata": {},
   "outputs": [],
   "source": [
    "p_ref = circ.run_with_density_matrix([0,1,2])"
   ]
  },
  {
   "cell_type": "code",
   "execution_count": 9,
   "id": "b673dec4",
   "metadata": {},
   "outputs": [],
   "source": [
    "p_mcwf1k = circ.execute(qubits=[0,1,2], num_trajectories=1000)"
   ]
  },
  {
   "cell_type": "code",
   "execution_count": 9,
   "id": "d7cda4f9",
   "metadata": {},
   "outputs": [],
   "source": [
    "p_mcwf_1 = circ.execute(qubits=[0,1,2], num_trajectories=1)\n",
    "p_mcwf_10 = circ.execute(qubits=[0,1,2], num_trajectories=10)"
   ]
  },
  {
   "cell_type": "code",
   "execution_count": 10,
   "id": "dcf585c3",
   "metadata": {},
   "outputs": [],
   "source": [
    "def metrics(p1,p2):\n",
    "    coeff = np.sum(np.sqrt(p1 * p2))\n",
    "    dist = -np.log(coeff)\n",
    "    hellinger = np.sqrt(1 - coeff)\n",
    "    m = 0.5 * (p1 + p2)\n",
    "    js = 0.5 * np.sum(p1 * np.log(1e-10 + p1 / m) + p2 * np.log(1e-10 + p2 / m))\n",
    "    print(f\"Coefficient: {coeff}, Distance: {dist}, Hellinger: {hellinger}, Jensen-Shannon: {js}\")"
   ]
  },
  {
   "cell_type": "code",
   "execution_count": 11,
   "id": "8c466e9c",
   "metadata": {},
   "outputs": [
    {
     "name": "stdout",
     "output_type": "stream",
     "text": [
      "Metrics for MCWF (1 Trajectory):\n",
      "Coefficient: 0.5622925847588569, Distance: 0.5757329511106878, Hellinger: 0.6615946003718162, Jensen-Shannon: 0.36111480030868015\n",
      "====================================================\n",
      "Metrics for MCWF (10 Trajectories):\n",
      "Coefficient: 0.9683953935672736, Distance: 0.032114810675443764, Hellinger: 0.1777768444784822, Jensen-Shannon: 0.0313306147280001\n",
      "====================================================\n",
      "Metrics for Pure State:\n",
      "Coefficient: 0.8065824955628269, Distance: 0.2149490982873674, Hellinger: 0.4397925697839529, Jensen-Shannon: 0.14884328342301517\n"
     ]
    }
   ],
   "source": [
    "print(\"Metrics for MCWF (1 Trajectory):\")\n",
    "metrics(p_mcwf_1, p_ref)\n",
    "print(\"====================================================\")\n",
    "print(\"Metrics for MCWF (10 Trajectories):\")\n",
    "metrics(p_mcwf_10, p_ref)\n",
    "# print(\"====================================================\")\n",
    "# print(\"Metrics for MCWF (100 Trajectories):\")\n",
    "# metrics(p_mcwf, p_ref)\n",
    "# print(\"====================================================\")\n",
    "# print(\"Metrics for MCWF (1000 Trajectories):\")\n",
    "# metrics(p_mcwf1k, p_ref)\n",
    "print(\"====================================================\")\n",
    "print(\"Metrics for Pure State:\")\n",
    "metrics(p_pure, p_ref)"
   ]
  },
  {
   "cell_type": "code",
   "execution_count": null,
   "id": "6f20e108",
   "metadata": {},
   "outputs": [],
   "source": []
  }
 ],
 "metadata": {
  "kernelspec": {
   "display_name": "penny",
   "language": "python",
   "name": "python3"
  },
  "language_info": {
   "codemirror_mode": {
    "name": "ipython",
    "version": 3
   },
   "file_extension": ".py",
   "mimetype": "text/x-python",
   "name": "python",
   "nbconvert_exporter": "python",
   "pygments_lexer": "ipython3",
   "version": "3.10.14"
  }
 },
 "nbformat": 4,
 "nbformat_minor": 5
}
