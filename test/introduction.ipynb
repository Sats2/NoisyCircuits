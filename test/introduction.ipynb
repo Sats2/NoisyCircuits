{
 "cells": [
  {
   "cell_type": "markdown",
   "id": "9faebe6e",
   "metadata": {},
   "source": [
    "# Introduction to NoisyCircuits\n",
    "\n",
    "## Library Imports"
   ]
  },
  {
   "cell_type": "code",
   "execution_count": 1,
   "id": "c733c23b",
   "metadata": {},
   "outputs": [
    {
     "name": "stderr",
     "output_type": "stream",
     "text": [
      "2025-08-15 17:10:26,010\tINFO util.py:154 -- Missing packages: ['ipywidgets']. Run `pip install -U ipywidgets`, then restart the notebook server for rich notebook output.\n"
     ]
    }
   ],
   "source": [
    "from NoisyCircuits import QuantumCircuit as QC\n",
    "from NoisyCircuits.utils.GetNoiseModel import GetNoiseModel"
   ]
  },
  {
   "cell_type": "markdown",
   "id": "2f419653",
   "metadata": {},
   "source": [
    "## Setup Input Fields\n",
    "\n",
    "In the input fields:\n",
    "\n",
    "1. **token:** refers to the IBM API token for accessing IBM Quantum Systems. See IBM Documentation for account creation and token access [here](https://quantum.cloud.ibm.com/docs/en/guides/cloud-setup).\n",
    "2. **backend_name:** refers to the IBM quantum hardware for which the noise model needs to be built. Currently, the software only supports the IBM Eagle R3 Chip set which have a basis gate set comprising of $X$, $\\sqrt{X}$, $R_z(\\cdot)$ and $ECR$. As of 15.08.2025, the backend codenamed \"ibm_brisbane\" is the only available quantum hardware with the Eagle R3 chip.\n",
    "3. **num_qubits:** the number of qubits in the quantum circuits.\n",
    "4. **num_cores:** the number of cores to run parallel Monte-Carlo Wavefunction (MCWF) Trajectories. (Ensure sufficient resources are available for runs.)\n",
    "5. **num_trajectories:** the number of trajectories for the MCWF method.\n",
    "6. **threshold:** the threshold for filtering out noise data.\n",
    "7. **jsonize:** a boolean variable indicating whether the noise model needs to be jsonized or if the input noise model is already in a json format."
   ]
  },
  {
   "cell_type": "code",
   "execution_count": null,
   "id": "5ad90c5b",
   "metadata": {},
   "outputs": [],
   "source": [
    "token = None # Replace with your IBM Quantum token\n",
    "backend_name = \"ibm_brisbane\"\n",
    "num_qubits = 2\n",
    "num_cores = 10\n",
    "num_trajectories = 20\n",
    "threshold = 1e-4\n",
    "jsonize = True"
   ]
  },
  {
   "cell_type": "markdown",
   "id": "c6e6835c",
   "metadata": {},
   "source": [
    "### Getting the Noise Model\n",
    "\n",
    "Run the code below to obtain the noise model from IBM backend calibration data."
   ]
  },
  {
   "cell_type": "code",
   "execution_count": 3,
   "id": "1bcfeea6",
   "metadata": {},
   "outputs": [
    {
     "name": "stderr",
     "output_type": "stream",
     "text": [
      "qiskit_runtime_service._resolve_cloud_instances:WARNING:2025-08-15 17:14:22,280: Default instance not set. Searching all available instances.\n"
     ]
    }
   ],
   "source": [
    "noise_model = GetNoiseModel(backend_name=backend_name, token=token).get_noise_model()"
   ]
  },
  {
   "cell_type": "markdown",
   "id": "edb84673",
   "metadata": {},
   "source": [
    "### Initialize the Circuit Instance"
   ]
  },
  {
   "cell_type": "code",
   "execution_count": 4,
   "id": "53afe932",
   "metadata": {},
   "outputs": [
    {
     "name": "stdout",
     "output_type": "stream",
     "text": [
      "Completed Extraction of ECR Errors.\n",
      "Starting post-processing on Single Qubit Errors.\n",
      "Completed post-processing on Single Qubit Errors.\n",
      "Processing ECR errors.\n",
      "  Qubit pair (0, 1): 5/9 errors above threshold (4 filtered out)\n",
      "ECR errors processed.\n",
      "Building Noise Operators for ECR Errors.\n",
      "Completed building Noise Operators for ECR Errors.\n",
      "Extracting Measurement Errors.\n",
      "Available qubits in roerror_map: [0, 1, 2, 3, 4, 5, 6, 7, 8, 9, 10, 11, 12, 13, 14, 15, 16, 17, 18, 19, 20, 21, 22, 23, 24, 25, 26, 27, 28, 29, 30, 31, 32, 33, 34, 35, 36, 37, 38, 39, 40, 41, 42, 43, 44, 45, 46, 47, 48, 49, 50, 51, 52, 53, 54, 55, 56, 57, 58, 59, 60, 61, 62, 63, 64, 65, 66, 67, 68, 69, 70, 71, 72, 73, 74, 75, 76, 77, 78, 79, 80, 81, 82, 83, 84, 85, 86, 87, 88, 89, 90, 91, 92, 93, 94, 95, 96, 97, 98, 99, 100, 101, 102, 103, 104, 105, 106, 107, 108, 109, 110, 111, 112, 113, 114, 115, 116, 117, 118, 119, 120, 121, 122, 123, 124, 125, 126]\n",
      "Requested qubits: [0, 1]\n",
      "Completed Extraction of Measurement Errors.\n",
      "Preparing Qubit Connectivity Map for Requested Qubits\n",
      "Qubit Connectivity Map Prepared.\n",
      "Returning Single Qubit Error Instructions, ECR Error Instructions, Measurement Errors and Connectivity Map.\n"
     ]
    },
    {
     "name": "stderr",
     "output_type": "stream",
     "text": [
      "2025-08-15 17:14:41,820\tINFO worker.py:1927 -- Started a local Ray instance.\n"
     ]
    }
   ],
   "source": [
    "nqc = QC(num_qubits=num_qubits, \n",
    "         noise_model=noise_model, \n",
    "         num_cores=num_cores, \n",
    "         num_trajectories=num_trajectories, \n",
    "         threshold=threshold, \n",
    "         jsonize=jsonize)"
   ]
  },
  {
   "cell_type": "markdown",
   "id": "86e23d6f",
   "metadata": {},
   "source": [
    "## Example Circuit\n",
    "\n",
    "### Example 1: Creating an EPR Pair\n",
    "\n",
    "First we create an EPR pair generating quantum circuit and execute it as a pure statevector simulation and as a noisy simulation (comparing density matrix and MCWF methods)."
   ]
  },
  {
   "cell_type": "code",
   "execution_count": 5,
   "id": "e69d7a85",
   "metadata": {},
   "outputs": [],
   "source": [
    "# Reset the circuit --> Ensure the circuit tape has no prior instructions\n",
    "nqc.refresh()"
   ]
  },
  {
   "cell_type": "code",
   "execution_count": 6,
   "id": "bb3126a0",
   "metadata": {},
   "outputs": [],
   "source": [
    "# Create the EPR Pair Circuit\n",
    "nqc.H(qubit=0)\n",
    "nqc.CX(control=0, target=1)"
   ]
  },
  {
   "cell_type": "code",
   "execution_count": 7,
   "id": "b3c20237",
   "metadata": {},
   "outputs": [
    {
     "data": {
      "text/plain": [
       "array([0.5, 0. , 0. , 0.5])"
      ]
     },
     "execution_count": 7,
     "metadata": {},
     "output_type": "execute_result"
    }
   ],
   "source": [
    "# Run the circuit with pure state simulation, argument qubits is the measured qubits\n",
    "nqc.run_pure_state(qubits=[0,1])"
   ]
  },
  {
   "cell_type": "code",
   "execution_count": 8,
   "id": "0cf21b5a",
   "metadata": {},
   "outputs": [
    {
     "name": "stdout",
     "output_type": "stream",
     "text": [
      "Creating Measurement Error Operator for observable qubits: [0, 1]\n",
      "Measurement Error Operator created.\n",
      "Executing the circuit with Density Matrix.\n"
     ]
    },
    {
     "data": {
      "text/plain": [
       "tensor([0.46866984, 0.03053985, 0.0341866 , 0.46660371], requires_grad=True)"
      ]
     },
     "execution_count": 8,
     "metadata": {},
     "output_type": "execute_result"
    }
   ],
   "source": [
    "# Run the circuit with density matrix simulation\n",
    "nqc.run_with_density_matrix(qubits=[0,1])"
   ]
  },
  {
   "cell_type": "code",
   "execution_count": 9,
   "id": "89bb2e0f",
   "metadata": {},
   "outputs": [
    {
     "name": "stdout",
     "output_type": "stream",
     "text": [
      "Creating Measurement Error Operator for observable qubits: [0, 1]\n",
      "Measurement Error Operator created.\n",
      "Executing the circuit with 20 trajectories.\n"
     ]
    },
    {
     "data": {
      "text/plain": [
       "tensor([0.46949485, 0.03050515, 0.03050515, 0.46949485], requires_grad=True)"
      ]
     },
     "execution_count": 9,
     "metadata": {},
     "output_type": "execute_result"
    }
   ],
   "source": [
    "# Running with MCWF method, here the number of trajectories can be modified from the originally specified value\n",
    "# The use_prev flag is a boolean that determines whether to use previously initialized measurement errors or not. If an MCWF execution\n",
    "# has not be run before, then set the flag to False, else leave it with the default value of True.\n",
    "nqc.execute(qubits=[0,1], num_trajectories=100, use_prev=False)"
   ]
  },
  {
   "cell_type": "code",
   "execution_count": 10,
   "id": "c8be5ad2",
   "metadata": {},
   "outputs": [
    {
     "data": {
      "text/plain": [
       "tensor([0.46949485, 0.03050515, 0.03050515, 0.46949485], requires_grad=True)"
      ]
     },
     "execution_count": 10,
     "metadata": {},
     "output_type": "execute_result"
    }
   ],
   "source": [
    "# Here, leaving the use_prev flag as True will use the previously initialized measurement errors.\n",
    "nqc.execute(qubits=[0,1], num_trajectories=50, use_prev=True)"
   ]
  },
  {
   "cell_type": "markdown",
   "id": "e12bb847",
   "metadata": {},
   "source": [
    "For the MCWF method, using more trajectories ensures better convergence to the density matrix result."
   ]
  },
  {
   "cell_type": "markdown",
   "id": "166fab99",
   "metadata": {},
   "source": [
    "### Example 2: Qubit Swap\n",
    "\n",
    "In this example, we see the effect of noise on a qubit swap between two qubits whose states where initialized using angle encoding."
   ]
  },
  {
   "cell_type": "code",
   "execution_count": 11,
   "id": "c2a46bc0",
   "metadata": {},
   "outputs": [],
   "source": [
    "# nqc.refresh() resets the quantum circuit to zero gates.\n",
    "# The argument to the rotation gates are the angle, followed by the qubit index.\n",
    "nqc.refresh()\n",
    "nqc.RY(theta=1.2, qubit=0)\n",
    "nqc.RY(theta=0.5, qubit=1)"
   ]
  },
  {
   "cell_type": "code",
   "execution_count": 12,
   "id": "5e00d991",
   "metadata": {},
   "outputs": [
    {
     "data": {
      "text/plain": [
       "array([0.63948479, 0.04169409, 0.29930649, 0.01951463])"
      ]
     },
     "execution_count": 12,
     "metadata": {},
     "output_type": "execute_result"
    }
   ],
   "source": [
    "# Run with pure state simulation\n",
    "nqc.run_pure_state(qubits=[0,1])"
   ]
  },
  {
   "cell_type": "code",
   "execution_count": 13,
   "id": "48c58a3d",
   "metadata": {},
   "outputs": [
    {
     "name": "stdout",
     "output_type": "stream",
     "text": [
      "Creating Measurement Error Operator for observable qubits: [0, 1]\n",
      "Measurement Error Operator created.\n",
      "Executing the circuit with Density Matrix.\n"
     ]
    },
    {
     "data": {
      "text/plain": [
       "tensor([0.61217731, 0.05467619, 0.30583138, 0.02731512], requires_grad=True)"
      ]
     },
     "execution_count": 13,
     "metadata": {},
     "output_type": "execute_result"
    }
   ],
   "source": [
    "# Run with the density matrix simulation\n",
    "nqc.run_with_density_matrix(qubits=[0,1])"
   ]
  },
  {
   "cell_type": "code",
   "execution_count": 14,
   "id": "29b1f8a5",
   "metadata": {},
   "outputs": [
    {
     "data": {
      "text/plain": [
       "tensor([0.61229347, 0.05468657, 0.30571521, 0.02730474], requires_grad=True)"
      ]
     },
     "execution_count": 14,
     "metadata": {},
     "output_type": "execute_result"
    }
   ],
   "source": [
    "# Run with MCWF Simulation (keep use_prev to True since the measurement errors are already initialized)\n",
    "nqc.execute(qubits=[0,1], num_trajectories=100, use_prev=True)"
   ]
  },
  {
   "cell_type": "markdown",
   "id": "1f01cf1a",
   "metadata": {},
   "source": [
    "## Shutdown the Parallel instance\n",
    "\n",
    "Due to parallel implementation with \"ray\", there is a requirement to explicitly shutdown the parallel pool"
   ]
  },
  {
   "cell_type": "code",
   "execution_count": 15,
   "id": "901b6883",
   "metadata": {},
   "outputs": [],
   "source": [
    "nqc.shutdown()"
   ]
  }
 ],
 "metadata": {
  "kernelspec": {
   "display_name": "NoisyCircuits",
   "language": "python",
   "name": "python3"
  },
  "language_info": {
   "codemirror_mode": {
    "name": "ipython",
    "version": 3
   },
   "file_extension": ".py",
   "mimetype": "text/x-python",
   "name": "python",
   "nbconvert_exporter": "python",
   "pygments_lexer": "ipython3",
   "version": "3.10.14"
  }
 },
 "nbformat": 4,
 "nbformat_minor": 5
}
